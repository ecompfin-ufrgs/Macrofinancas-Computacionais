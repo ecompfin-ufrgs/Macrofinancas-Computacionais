{
 "cells": [
  {
   "cell_type": "markdown",
   "id": "58c89180",
   "metadata": {},
   "source": [
    "# Manual de Julia\n",
    "\n",
    "Este material é preparado com base no Manual da linguagem Julial disponível [aqui](https://docs.julialang.org/en/v1/manual/getting-started/).\n",
    "\n",
    "Começaremos apresentando o formato do código Julia.\n",
    "\n",
    "## O código-fonte Julia\n",
    "\n",
    "O código-fonte Julia é composto por caracteres UTF-8 que se juntam para designar estruturas de dados e expressões. Este código deve ser armazenado em um arquivo de texto simples para ser posteriormente compilado JIT e executado.\n",
    "\n",
    "**Exemplo 1**: código-fonte Julia."
   ]
  },
  {
   "cell_type": "code",
   "execution_count": 1,
   "id": "9b8f2c0f",
   "metadata": {},
   "outputs": [
    {
     "name": "stdout",
     "output_type": "stream",
     "text": [
      "Hello, World!\n"
     ]
    }
   ],
   "source": [
    "# Código-fonte Julia para imprimir na tela a frase \"Hello, World!\".\n",
    "\n",
    "println(\"Hello, World!\")"
   ]
  },
  {
   "cell_type": "markdown",
   "id": "63f39534",
   "metadata": {},
   "source": [
    "## O modelo de dados de Julia\n",
    "\n",
    "Os valores dos dados em Julia são denominados de objetos e armazenados em endereços de memória acessíveis por um rótulo chamado variável.  Cada objeto pertence a tipo, que especifica as operações que podem ser executadas com ele.\n",
    "\n",
    "Os principais tipos de dados em Julia são:\n",
    "\n",
    "1. Integers;\n",
    "2. Float;\n",
    "3. BigInt;\n",
    "4. BigFloat;\n",
    "5. Complex;\n",
    "6. Rational;\n",
    "7. String;\n"
   ]
  }
 ],
 "metadata": {
  "kernelspec": {
   "display_name": "Julia 1.7.3",
   "language": "julia",
   "name": "julia-1.7"
  },
  "language_info": {
   "file_extension": ".jl",
   "mimetype": "application/julia",
   "name": "julia",
   "version": "1.7.3"
  }
 },
 "nbformat": 4,
 "nbformat_minor": 5
}
