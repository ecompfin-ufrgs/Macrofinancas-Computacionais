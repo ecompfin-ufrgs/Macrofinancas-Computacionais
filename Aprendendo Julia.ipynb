{
 "cells": [
  {
   "cell_type": "markdown",
   "id": "7399690f",
   "metadata": {},
   "source": [
    "# Aprendendo Julia\n",
    "\n",
    "Referência: [Think Julia](https://juliaintro.github.io/JuliaIntroBR.jl/)\n",
    "\n",
    "Inicialmente, baixei Julia do site [Julia Programming Language](https://julialang.org/downloads/), instalei a linguagem e, depois, segui as instruções constantes no site [Repositório GitHub IJulia](https://github.com/JuliaLang/IJulia.jl) para instalar o kernel IJulia e fazer Julia ser executada aqui no Jupyter Notebook.\n",
    "\n",
    "Logo, em seguida, testei se o kernel funcionava, usando o código `println(\"Hellow, World!\")` aí na listagem 1 abaixo."
   ]
  },
  {
   "cell_type": "code",
   "execution_count": 3,
   "id": "35a0b0e2",
   "metadata": {},
   "outputs": [
    {
     "name": "stdout",
     "output_type": "stream",
     "text": [
      "Hello, World!\n"
     ]
    }
   ],
   "source": [
    "# Listagem 1: Hello World em Julia\n",
    "println(\"Hello, World!\")"
   ]
  },
  {
   "cell_type": "markdown",
   "id": "4a7d9ba6",
   "metadata": {},
   "source": [
    "# Capítulo 1 - The way of the program\n",
    "\n",
    "Já fiz o programa **Hello, World**, então vou logo para:\n",
    "\n",
    "## Arithmetic operators\n",
    "Estas operações são realizadas sobre tipos numéricos."
   ]
  },
  {
   "cell_type": "code",
   "execution_count": 5,
   "id": "16ae0550",
   "metadata": {},
   "outputs": [
    {
     "data": {
      "text/plain": [
       "42"
      ]
     },
     "execution_count": 5,
     "metadata": {},
     "output_type": "execute_result"
    }
   ],
   "source": [
    "# Listagem 2\n",
    "40 + 2"
   ]
  },
  {
   "cell_type": "code",
   "execution_count": 6,
   "id": "8503359c",
   "metadata": {},
   "outputs": [
    {
     "data": {
      "text/plain": [
       "42.0"
      ]
     },
     "execution_count": 6,
     "metadata": {},
     "output_type": "execute_result"
    }
   ],
   "source": [
    "# Listagem 3\n",
    "\n",
    "84/2"
   ]
  },
  {
   "cell_type": "code",
   "execution_count": 7,
   "id": "54446f9e",
   "metadata": {},
   "outputs": [
    {
     "data": {
      "text/plain": [
       "42"
      ]
     },
     "execution_count": 7,
     "metadata": {},
     "output_type": "execute_result"
    }
   ],
   "source": [
    "# Listagem 4: operador de potenciação ^\n",
    "\n",
    "6^2 + 6"
   ]
  },
  {
   "cell_type": "markdown",
   "id": "de48a603",
   "metadata": {},
   "source": [
    "## Values and types\n",
    "\n",
    "A função typeof() fornece o tipo de um objeto."
   ]
  },
  {
   "cell_type": "code",
   "execution_count": 8,
   "id": "2a80225d",
   "metadata": {},
   "outputs": [
    {
     "data": {
      "text/plain": [
       "Int64"
      ]
     },
     "execution_count": 8,
     "metadata": {},
     "output_type": "execute_result"
    }
   ],
   "source": [
    "typeof(2)\n"
   ]
  },
  {
   "cell_type": "code",
   "execution_count": 9,
   "id": "53681321",
   "metadata": {},
   "outputs": [
    {
     "data": {
      "text/plain": [
       "Float64"
      ]
     },
     "execution_count": 9,
     "metadata": {},
     "output_type": "execute_result"
    }
   ],
   "source": [
    "typeof(42.0)"
   ]
  },
  {
   "cell_type": "code",
   "execution_count": 10,
   "id": "7ae7ff11",
   "metadata": {},
   "outputs": [
    {
     "data": {
      "text/plain": [
       "String"
      ]
     },
     "execution_count": 10,
     "metadata": {},
     "output_type": "execute_result"
    }
   ],
   "source": [
    "typeof(\"Hellow, World\")"
   ]
  },
  {
   "cell_type": "code",
   "execution_count": 11,
   "id": "debd0d0f",
   "metadata": {},
   "outputs": [
    {
     "data": {
      "text/plain": [
       "String"
      ]
     },
     "execution_count": 11,
     "metadata": {},
     "output_type": "execute_result"
    }
   ],
   "source": [
    "typeof(\"2\")"
   ]
  },
  {
   "cell_type": "markdown",
   "id": "ea181c68",
   "metadata": {},
   "source": [
    "### Observação: separando valores por vírgula\n",
    "\n",
    "Isto cria uma tupla de números."
   ]
  },
  {
   "cell_type": "code",
   "execution_count": 13,
   "id": "cdfdc530",
   "metadata": {},
   "outputs": [
    {
     "data": {
      "text/plain": [
       "(1, 0, 0)"
      ]
     },
     "execution_count": 13,
     "metadata": {},
     "output_type": "execute_result"
    }
   ],
   "source": [
    "1,000,000"
   ]
  },
  {
   "cell_type": "markdown",
   "id": "6409c369",
   "metadata": {},
   "source": [
    "### Separando as casas de milhares em números grandes em Julia\n",
    "\n",
    "Use o underline entre os números como mostrado abaixo"
   ]
  },
  {
   "cell_type": "code",
   "execution_count": 14,
   "id": "dfc8b7bf",
   "metadata": {},
   "outputs": [
    {
     "data": {
      "text/plain": [
       "1000000"
      ]
     },
     "execution_count": 14,
     "metadata": {},
     "output_type": "execute_result"
    }
   ],
   "source": [
    "1_000_000"
   ]
  },
  {
   "cell_type": "markdown",
   "id": "9d65579c",
   "metadata": {},
   "source": [
    "## Formal and natural languages\n",
    "\n",
    "Aqui o autor fala sobre tokens e sintaxe.\n",
    "\n",
    "**Token** é o elemento básico da linguagem.  Em português, token significa símbolo e, no caso, símbolo linguístico.  \n",
    "\n",
    "A sintaxe é o conjunto de regras para definir como unir os tokens para formar instruções e regras para definir como estrutrurar as instruções para formar sentenças válidas."
   ]
  },
  {
   "cell_type": "markdown",
   "id": "6a8d217c",
   "metadata": {},
   "source": [
    "## Debugging\n",
    "\n",
    "Debugging é retirar bugs dos programas.  Em português, usamos depuração."
   ]
  },
  {
   "cell_type": "markdown",
   "id": "e26d0ce8",
   "metadata": {},
   "source": [
    "## Exercícios\n",
    "\n",
    "### Exercício 1.2"
   ]
  },
  {
   "cell_type": "code",
   "execution_count": 15,
   "id": "b5a51886",
   "metadata": {},
   "outputs": [
    {
     "name": "stdout",
     "output_type": "stream",
     "text": [
      "2562\n"
     ]
    }
   ],
   "source": [
    "# 1: quantos segundos há em 42 minutos e 42 segundos\n",
    "\n",
    "\n",
    "segundos = 42*60 + 42\n",
    "\n",
    "println(segundos)\n",
    "\n",
    "\n",
    "\n"
   ]
  },
  {
   "cell_type": "code",
   "execution_count": 16,
   "id": "77d3a09a",
   "metadata": {},
   "outputs": [
    {
     "name": "stdout",
     "output_type": "stream",
     "text": [
      "6.211180124223602\n"
     ]
    }
   ],
   "source": [
    "# 2. How many miles are there in 10 kilometers?\n",
    "\n",
    "miles = 10/1.61\n",
    "println(miles)"
   ]
  },
  {
   "cell_type": "code",
   "execution_count": 17,
   "id": "dcf99b3e",
   "metadata": {},
   "outputs": [
    {
     "name": "stdout",
     "output_type": "stream",
     "text": [
      "9.859016070196192\n"
     ]
    }
   ],
   "source": [
    "# If you run a 10-kilometer race in 37 minutes 48 seconds, what is your average pace (time per mile in minutes and seconds)?\n",
    "# What is your average speed in miles per hour?\n",
    "\n",
    "\n",
    "time = 37/60 + 48/3600\n",
    "distance = 10/1.61\n",
    "average_speed = distance/time\n",
    "println(average_speed)"
   ]
  },
  {
   "cell_type": "markdown",
   "id": "c9337773",
   "metadata": {},
   "source": [
    "# Capítulo 2 - Variables, Expressions and Statements\n",
    "\n",
    "## Assignement statements\n",
    "Cria novos objetos em memória."
   ]
  },
  {
   "cell_type": "code",
   "execution_count": 18,
   "id": "eeb259ae",
   "metadata": {},
   "outputs": [
    {
     "data": {
      "text/plain": [
       "\"And now for something completely differente\""
      ]
     },
     "execution_count": 18,
     "metadata": {},
     "output_type": "execute_result"
    }
   ],
   "source": [
    "message = \"And now for something completely differente\""
   ]
  },
  {
   "cell_type": "code",
   "execution_count": 19,
   "id": "07ae96c9",
   "metadata": {},
   "outputs": [
    {
     "data": {
      "text/plain": [
       "17"
      ]
     },
     "execution_count": 19,
     "metadata": {},
     "output_type": "execute_result"
    }
   ],
   "source": [
    "n = 17"
   ]
  },
  {
   "cell_type": "code",
   "execution_count": 27,
   "id": "9874879b",
   "metadata": {},
   "outputs": [
    {
     "name": "stdout",
     "output_type": "stream",
     "text": [
      "6.283185307179586\n"
     ]
    }
   ],
   "source": [
    "z = 2 * π\n",
    "println(z)"
   ]
  },
  {
   "cell_type": "code",
   "execution_count": 28,
   "id": "d7f9724a",
   "metadata": {},
   "outputs": [
    {
     "data": {
      "text/plain": [
       "2"
      ]
     },
     "execution_count": 28,
     "metadata": {},
     "output_type": "execute_result"
    }
   ],
   "source": [
    "p = 2"
   ]
  },
  {
   "cell_type": "markdown",
   "id": "cf10e386",
   "metadata": {},
   "source": [
    "## Variable names\n",
    "\n",
    "- Podem ter qualquer tamanho e usar qualquer caracter Unicode, mas não podem começar com um número.\n",
    "\n",
    "- Para usar símbolos matemáticos como nome de variáveis, use código latex e pressione a tecla TAB como mostrado abaixo:\n"
   ]
  },
  {
   "cell_type": "code",
   "execution_count": 29,
   "id": "006c1ea5",
   "metadata": {},
   "outputs": [
    {
     "data": {
      "text/plain": [
       "π = 3.1415926535897..."
      ]
     },
     "execution_count": 29,
     "metadata": {},
     "output_type": "execute_result"
    }
   ],
   "source": [
    "π"
   ]
  },
  {
   "cell_type": "code",
   "execution_count": 33,
   "id": "069020c5",
   "metadata": {},
   "outputs": [
    {
     "data": {
      "text/plain": [
       "7"
      ]
     },
     "execution_count": 33,
     "metadata": {},
     "output_type": "execute_result"
    }
   ],
   "source": [
    "δ = 7"
   ]
  },
  {
   "cell_type": "code",
   "execution_count": 34,
   "id": "837dac54",
   "metadata": {},
   "outputs": [
    {
     "data": {
      "text/plain": [
       "1"
      ]
     },
     "execution_count": 34,
     "metadata": {},
     "output_type": "execute_result"
    }
   ],
   "source": [
    "θ = 1"
   ]
  },
  {
   "cell_type": "markdown",
   "id": "1977dc8c",
   "metadata": {},
   "source": [
    "### Observação:\n",
    "A lista de palavras chave de Julia é mostrada a [aqui](https://benlauwens.github.io/ThinkJulia.jl/latest/book.html#_assignment_statements)"
   ]
  },
  {
   "cell_type": "markdown",
   "id": "b9704c16",
   "metadata": {},
   "source": [
    "## Expressions and statements\n",
    "\n",
    "Uma expressão é uma combinação de valores, variáveis e operadores e se considera, inclusive, que um valor sozinho é uma expressão válida em Julia como mostrado abaixo."
   ]
  },
  {
   "cell_type": "code",
   "execution_count": 36,
   "id": "2500cb28",
   "metadata": {},
   "outputs": [
    {
     "data": {
      "text/plain": [
       "6"
      ]
     },
     "execution_count": 36,
     "metadata": {},
     "output_type": "execute_result"
    }
   ],
   "source": [
    "6"
   ]
  },
  {
   "cell_type": "markdown",
   "id": "dae2e2ea",
   "metadata": {},
   "source": [
    "Um statement é uma unidade de código que produz um efeito (isto é, altera o estado de alguma variável).  "
   ]
  },
  {
   "cell_type": "markdown",
   "id": "28b0f352",
   "metadata": {},
   "source": [
    "## Script Mode\n",
    "Criar um arquivo com extensão .jl e executar pelo terminal, invocando o compilador JIT de Julia.\n",
    "\n",
    "Fiz isso com o arquivo teste.jl contido no diretório TesteScriptJl/"
   ]
  },
  {
   "cell_type": "markdown",
   "id": "a143adf7",
   "metadata": {},
   "source": [
    "## String Operations\n",
    "\n",
    "### Concatenação de strings\n",
    "\n",
    "Use o operador asterisco *."
   ]
  },
  {
   "cell_type": "code",
   "execution_count": 37,
   "id": "0bdb6a46",
   "metadata": {},
   "outputs": [
    {
     "name": "stdout",
     "output_type": "stream",
     "text": [
      "casavecchia\n"
     ]
    }
   ],
   "source": [
    "a = \"casa\"\n",
    "b = \"vecchia\"\n",
    "println(a*b)"
   ]
  },
  {
   "cell_type": "markdown",
   "id": "e1c900b0",
   "metadata": {},
   "source": [
    "### Repetição de strings\n",
    "\n",
    "Use o símbolo do acento circunflexo (^) como mostrado abaixo"
   ]
  },
  {
   "cell_type": "code",
   "execution_count": 40,
   "id": "f189280b",
   "metadata": {},
   "outputs": [
    {
     "data": {
      "text/plain": [
       "\"PositivoPositivoPositivo\""
      ]
     },
     "execution_count": 40,
     "metadata": {},
     "output_type": "execute_result"
    }
   ],
   "source": [
    "p = \"Positivo\"\n",
    "p^3"
   ]
  },
  {
   "cell_type": "markdown",
   "id": "a0078e6b",
   "metadata": {},
   "source": [
    "### Comments\n",
    "Para escrever comentários, use o símbolo da hashtage # como mostrado abaixo."
   ]
  },
  {
   "cell_type": "code",
   "execution_count": 41,
   "id": "b8c466ae",
   "metadata": {},
   "outputs": [],
   "source": [
    "# Este é um comentário de uma única linha"
   ]
  },
  {
   "cell_type": "markdown",
   "id": "fcf42f36",
   "metadata": {},
   "source": [
    "## Debugging\n",
    "\n",
    "Três tipos de erros podem ocorrer num programa: erros de sintaxe, error de runtime (execução) e erros de semântica.\n",
    "\n",
    "- Erros de sintaxe são erros no uso de expressões e comandos.\n",
    "- Erros de runtime são erros na execução do programa devidos tipicamente à impossibilidade de Julia executar alguma instrução sintaticamente correta.  Também são chamados de exceções (exceptions). \n",
    "- Erros de semântica são erros que fazem o programa calcular algo diferente do que seria a intenção do programador.  Como não há sintaxe errada e todas as instruções podem ser executadas, o programa gerará um resultado, mas este é incorreto."
   ]
  },
  {
   "cell_type": "code",
   "execution_count": 42,
   "id": "6e347ff8",
   "metadata": {},
   "outputs": [
    {
     "data": {
      "text/plain": [
       "1"
      ]
     },
     "execution_count": 42,
     "metadata": {},
     "output_type": "execute_result"
    }
   ],
   "source": [
    "x = y = 1"
   ]
  },
  {
   "cell_type": "code",
   "execution_count": 43,
   "id": "bb35fa01",
   "metadata": {},
   "outputs": [
    {
     "data": {
      "text/plain": [
       "1"
      ]
     },
     "execution_count": 43,
     "metadata": {},
     "output_type": "execute_result"
    }
   ],
   "source": [
    "x"
   ]
  },
  {
   "cell_type": "code",
   "execution_count": 44,
   "id": "95053e25",
   "metadata": {},
   "outputs": [
    {
     "data": {
      "text/plain": [
       "1"
      ]
     },
     "execution_count": 44,
     "metadata": {},
     "output_type": "execute_result"
    }
   ],
   "source": [
    "y"
   ]
  },
  {
   "cell_type": "markdown",
   "id": "a264f7bb",
   "metadata": {},
   "source": [
    "# Functions\n",
    "Os argumentos das funções são expressions. Algumas funçõe importantes são:\n",
    "\n",
    "- entrada de dados - readline()\n",
    "- saída de dados - println()\n",
    "- conversão de tipos - parse(tipo, objeto)\n",
    "- truncagem de casas decimais - trunc(tipo Integer, tipo Float)\n",
    "\n",
    "Vejamos exemplos.\n"
   ]
  },
  {
   "cell_type": "code",
   "execution_count": 45,
   "id": "a5c30f00",
   "metadata": {},
   "outputs": [
    {
     "name": "stdout",
     "output_type": "stream",
     "text": [
      "stdin> 7\n"
     ]
    },
    {
     "data": {
      "text/plain": [
       "\"7\""
      ]
     },
     "execution_count": 45,
     "metadata": {},
     "output_type": "execute_result"
    }
   ],
   "source": [
    "# Função readline() - retorna um string\n",
    "\n",
    "a = readline()"
   ]
  },
  {
   "cell_type": "code",
   "execution_count": 46,
   "id": "4c6ab6da",
   "metadata": {},
   "outputs": [
    {
     "name": "stdout",
     "output_type": "stream",
     "text": [
      "2\n"
     ]
    }
   ],
   "source": [
    "# Função println()\n",
    "\n",
    "println(2)"
   ]
  },
  {
   "cell_type": "code",
   "execution_count": 47,
   "id": "e8de1dbc",
   "metadata": {},
   "outputs": [
    {
     "data": {
      "text/plain": [
       "Int64"
      ]
     },
     "execution_count": 47,
     "metadata": {},
     "output_type": "execute_result"
    }
   ],
   "source": [
    "# Função parse()\n",
    "\n",
    "numero = parse(Int64, \"2\")\n",
    "typeof(numero)"
   ]
  },
  {
   "cell_type": "code",
   "execution_count": 48,
   "id": "ff70eb9e",
   "metadata": {},
   "outputs": [
    {
     "data": {
      "text/plain": [
       "3"
      ]
     },
     "execution_count": 48,
     "metadata": {},
     "output_type": "execute_result"
    }
   ],
   "source": [
    "# Função trunc\n",
    "\n",
    "trunc(Int64, 3.9999)"
   ]
  },
  {
   "cell_type": "code",
   "execution_count": 50,
   "id": "965784ce",
   "metadata": {},
   "outputs": [
    {
     "data": {
      "text/plain": [
       "32.0"
      ]
     },
     "execution_count": 50,
     "metadata": {},
     "output_type": "execute_result"
    }
   ],
   "source": [
    "# float - converte para ponto flutuante\n",
    "\n",
    "float(32)"
   ]
  },
  {
   "cell_type": "code",
   "execution_count": 51,
   "id": "8aac711d",
   "metadata": {},
   "outputs": [
    {
     "data": {
      "text/plain": [
       "\"32\""
      ]
     },
     "execution_count": 51,
     "metadata": {},
     "output_type": "execute_result"
    }
   ],
   "source": [
    "# string - converte para string\n",
    "\n",
    "string(32)"
   ]
  },
  {
   "cell_type": "code",
   "execution_count": null,
   "id": "822fc475",
   "metadata": {},
   "outputs": [],
   "source": []
  }
 ],
 "metadata": {
  "kernelspec": {
   "display_name": "Julia 1.9.3",
   "language": "julia",
   "name": "julia-1.9"
  },
  "language_info": {
   "file_extension": ".jl",
   "mimetype": "application/julia",
   "name": "julia",
   "version": "1.9.3"
  }
 },
 "nbformat": 4,
 "nbformat_minor": 5
}
